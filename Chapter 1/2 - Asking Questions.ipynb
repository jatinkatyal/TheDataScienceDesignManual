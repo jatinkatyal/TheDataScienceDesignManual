{
 "cells": [
  {
   "cell_type": "markdown",
   "metadata": {},
   "source": [
    "Earlier i discusssed the difference between computer science and data science. In that it was stressed that data scientists try to discover, understand meaning of why and how something happen. This is done by asking questions, once you have the data you should asking questions and find answers to it using what you obtained. To ask questions, you should be familliar with the field. This can be done be creating a social connection with people who work in that sector, you can also connect with peers working in same domain. One should try to get most from these people. Widening the range of interests will definitely help."
   ]
  },
  {
   "cell_type": "markdown",
   "metadata": {},
   "source": [
    "I am not particularly fond of sports but, it gives a good playing ground for data scientists. We all had some kind of sports playing cards in our childhood, i remember cricket attax. It had all the players for a season of IPL with their stats. It'll a great oportunity to collect that data and analyse it. A better task would be gathering some actual game data and from that asking quetions. Think what you'll ask from such data? Below questions make me interested in the game.\n",
    "<ul>\n",
    "    <li> Easy: Most run scoring/ wicket taking player.</li>\n",
    "    <li>Intermideate: Best batsman with good average runs per match? Batsman with consistent high runs in least balls? Wicket taking bowlers with less runs given per ball.</li>\n",
    "    <li>Hard: Given a set amount of budget, best team that can be bought in an auction?</li>\n",
    "</ul>"
   ]
  },
  {
   "cell_type": "markdown",
   "metadata": {},
   "source": [
    "Food is something i am interested in, getting a database of restraunts and orders will be a great thing to have. What kind of questions you'll ask? Here's my pick.\n",
    "<ul>\n",
    "    <li>Easy: Most ordered cuisine/dish.</li>\n",
    "    <li>Medium: List of restraunts people are more loyal to.</li>\n",
    "    <li>Hard: Areas with high order volume but less serving restraunts where order value is also high. This'll help me if i decide to open up a joint</li>\n",
    "</ul>"
   ]
  },
  {
   "cell_type": "markdown",
   "metadata": {},
   "source": [
    "Real estate data is also a good start, many people start with a house price prediction project. Let's put a brake on prediction for now and start with asking questions from the data. What questions will you ask? Here are mine.\n",
    "<ul>\n",
    "    <li>Easy: Min price per unit area</li>\n",
    "    <li>Medium: List of afforable houses having more than 2 bedrooms and decent spread.</li>\n",
    "    <li>Hard: Luxury house in a good neighbourhood in a budget.</li>\n",
    "</ul>"
   ]
  }
 ],
 "metadata": {
  "kernelspec": {
   "display_name": "Python 3",
   "language": "python",
   "name": "python3"
  },
  "language_info": {
   "codemirror_mode": {
    "name": "ipython",
    "version": 3
   },
   "file_extension": ".py",
   "mimetype": "text/x-python",
   "name": "python",
   "nbconvert_exporter": "python",
   "pygments_lexer": "ipython3",
   "version": "3.7.0"
  }
 },
 "nbformat": 4,
 "nbformat_minor": 2
}
