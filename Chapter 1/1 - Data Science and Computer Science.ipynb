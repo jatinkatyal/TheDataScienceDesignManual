{
 "cells": [
  {
   "cell_type": "markdown",
   "metadata": {},
   "source": [
    "Data Science is a combined understanding of Computer Science, Statistics and Application Domain. From Computer Science we take algorithms and techniques such as Machine Learning along with high performance computing technologies. Statistics is needed for data exploration, hypothesis testing and visualization. Application Domain provides the problem for which we apply these techniques and also the evaluation criterias for assesment.\n",
    "\n",
    "It is widely popular now because of the vast ammount of data with companies and technology to analyzye it. Most important reason is because Facebook and Google are doing it (:P). Also, we saw Moneyball where Brad Pitt used data to win the championship (LOL!) Also it is my personnel desire to create a system which can generate a dream team for cricket fantasy league, and i dont know much about cricket (Tough to believe if you know I am an Indian). I am stepping in this without any set goals but, it will be great if after this book we can build this out."
   ]
  },
  {
   "cell_type": "markdown",
   "metadata": {},
   "source": [
    "![A Sugarcane juice vendor in India](sugarcane2.jpg)With computer science or software engineering perspective, we always try to get an algorithm through which we can parse the data. Traditional approaches treats algorithm like a juicer, you push in the pulp and final result comes out of it. In computer science we create our set of variables and flags in our simple virtual world where as real world is complex and data scientists try to understand it. Where computer science is about inventing an algorithm, data science is about discovering what is already available in data."
   ]
  },
  {
   "cell_type": "markdown",
   "metadata": {},
   "source": [
    "Here are some key differences between a data scientist and a computer scientist.\n",
    "<ul>\n",
    "    <li>Computer scientists focus on methods, how an algorithm perofrms better(remember those sorting techniques you were taught?). A computer scientis focuses on data and how to get it. I can remember about an airline that uses a good number of sesnors to generate huge amount of data per flight. This data is analysed in real time by the ground staff for any maintainence required for optimum efficency of flight.</li>\n",
    "    <li>Data scientists try to discover something about the process from the data, while computer scientists try to produce a reasonable result.</li>\n",
    "    <li>Data scientists accepts that there can issues with data and think how it affects there answers, computer scientists safeguard themselves from errors</li>\n",
    "    <li>Computer scientists consider the values whereas data scientists concern with meaning behind that value</li>\n",
    "</ul>"
   ]
  },
  {
   "cell_type": "markdown",
   "metadata": {},
   "source": [
    "A data sciences faces 2 kinds of challenges. First, given a set problems what data can be used to answer those, this is called hypothesis approach. Second, given a dataset what kind of problems can be answered with it, this is called data driven approach."
   ]
  }
 ],
 "metadata": {
  "kernelspec": {
   "display_name": "Python 3",
   "language": "python",
   "name": "python3"
  },
  "language_info": {
   "codemirror_mode": {
    "name": "ipython",
    "version": 3
   },
   "file_extension": ".py",
   "mimetype": "text/x-python",
   "name": "python",
   "nbconvert_exporter": "python",
   "pygments_lexer": "ipython3",
   "version": "3.7.0"
  }
 },
 "nbformat": 4,
 "nbformat_minor": 2
}
