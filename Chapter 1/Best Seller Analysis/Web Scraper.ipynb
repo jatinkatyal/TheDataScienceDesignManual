{
 "cells": [
  {
   "cell_type": "markdown",
   "metadata": {},
   "source": [
    "This is a web scraping example. I will be scraping best seller books on amazon in this example."
   ]
  },
  {
   "cell_type": "code",
   "execution_count": 1,
   "metadata": {},
   "outputs": [],
   "source": [
    "# Import required libraries \n",
    "import requests\n",
    "from bs4 import BeautifulSoup\n",
    "from datetime import datetime\n",
    "import pandas as pd"
   ]
  },
  {
   "cell_type": "code",
   "execution_count": 2,
   "metadata": {},
   "outputs": [
    {
     "data": {
      "text/plain": [
       "{'genre': 'Any Department', 'url': 'https://www.amazon.in/gp/bestsellers'}"
      ]
     },
     "execution_count": 2,
     "metadata": {},
     "output_type": "execute_result"
    }
   ],
   "source": [
    "# Hitting base page for list of genres\n",
    "url = 'https://www.amazon.in/gp/bestsellers/books/'\n",
    "page = requests.get(url)\n",
    "soup = BeautifulSoup(page.content,'html.parser')\n",
    "\n",
    "bookGenres = []\n",
    "unorderedLists = soup.find_all('ul')\n",
    "for l in unorderedLists:\n",
    "    check = l.find(class_='zg_selected')\n",
    "    if check:\n",
    "        links = l.find_all('a')\n",
    "        for link in links:\n",
    "            genre=link.text\n",
    "            genrelink=link['href']\n",
    "            bookGenre={'genre':genre,'url':genrelink}\n",
    "            bookGenres.append(bookGenre)\n",
    "        break\n",
    "bookGenres.pop(0)"
   ]
  },
  {
   "cell_type": "code",
   "execution_count": 3,
   "metadata": {},
   "outputs": [],
   "source": [
    "# For each genre getting details of 50 best seller books\n",
    "books = []\n",
    "for bg in bookGenres:\n",
    "    url = bg['url']\n",
    "    genrePage = requests.get(url)\n",
    "    date = datetime.now()\n",
    "    genreSoup = BeautifulSoup(genrePage.content,'html.parser')\n",
    "    orderedList = genreSoup.find_all('li',class_='zg-item-immersion')\n",
    "    for ol in orderedList:\n",
    "        rank = ol.find('span',class_='zg-badge-body').text.strip()[1:]\n",
    "        item=ol.find('span',class_='zg-item')\n",
    "        title = item.find('a').text.strip()\n",
    "        author = item.find('div',class_='a-row').text.strip()\n",
    "        try:\n",
    "            price=ol.find(class_=[\"p13n-sc-price\",'a-color-price']).text.strip()[1:].strip()\n",
    "        except:\n",
    "            price=None\n",
    "        book=[title,author,bg['genre'],price,date,rank]\n",
    "        books.append(book)"
   ]
  },
  {
   "cell_type": "code",
   "execution_count": 4,
   "metadata": {},
   "outputs": [],
   "source": [
    "# Saving results to a CSV\n",
    "df = pd.DataFrame(books,columns=['Title','Author','Genre','Price','Date','Rank'])\n",
    "df['Rank'] = df['Rank'].astype(int)\n",
    "df['Price'] = pd.to_numeric(df['Price'],errors='coerce')\n",
    "df.to_csv('datasheet.csv',index=False,mode='a',header=False)"
   ]
  }
 ],
 "metadata": {
  "kernelspec": {
   "display_name": "Python 3",
   "language": "python",
   "name": "python3"
  },
  "language_info": {
   "codemirror_mode": {
    "name": "ipython",
    "version": 3
   },
   "file_extension": ".py",
   "mimetype": "text/x-python",
   "name": "python",
   "nbconvert_exporter": "python",
   "pygments_lexer": "ipython3",
   "version": "3.7.0"
  }
 },
 "nbformat": 4,
 "nbformat_minor": 2
}
