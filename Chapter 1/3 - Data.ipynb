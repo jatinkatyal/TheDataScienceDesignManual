{
 "cells": [
  {
   "cell_type": "markdown",
   "metadata": {},
   "source": [
    "When talking data science, data is the first thing that should come up to the mind. This the thing we'll be working upon and investing entire time too. It's better that we are aware of things about it. Here are some traits about data that most frequently observed.\n",
    "<ul>\n",
    "    <li>Structured or Unstructured - Structured data is well represented into a fix schema. This can be in databases, excels etc. Working on it seems more easier as it makes more sense to general people. Unstructured data has no specific form, it can be anything from a file on the drive to a physical document. Usually this is converted into structured format before starting any work on it.</li>\n",
    "    <li>Quantitaive and Categorical - Quantitative data is usaly a measurable value, a number telling the degree of object in consideration. Categorical data tells about a property of the considered object, it can't be measured on a scale. It is a good practice to encode such data into numeric representations however, these values may not be subjected to any arithmetical calculations. If i have a reviewing system with 3 responses, bad,average & good encoded as 0,1 & 2 i can say 0 < 1 < 2 but, if have gender as categorical data with male & female encoded as 0 & 1, 0<1 or 1>0 doesn't hold any sense. This is called ordinal and nominal, will explore more in a later post maybe.\n",
    "    <li>Big or Little - This is in terms with scale of data, usually the larger data we obtain better it is as it has less chances of missing any case. It can also be sampled to a smaller dataset if required. A small dataset on therr hand provides faster analyis, takes less computing resources and easier to perform. Scale of data should be controlled problem to problem, for example if analyzing voters mood in a constituency one can use a poll of 100-500 individuals rather than going on Social media and analyse all the posts and trends</li>\n",
    "</ul>"
   ]
  }
 ],
 "metadata": {
  "kernelspec": {
   "display_name": "Python 3",
   "language": "python",
   "name": "python3"
  },
  "language_info": {
   "codemirror_mode": {
    "name": "ipython",
    "version": 3
   },
   "file_extension": ".py",
   "mimetype": "text/x-python",
   "name": "python",
   "nbconvert_exporter": "python",
   "pygments_lexer": "ipython3",
   "version": "3.7.0"
  }
 },
 "nbformat": 4,
 "nbformat_minor": 2
}
