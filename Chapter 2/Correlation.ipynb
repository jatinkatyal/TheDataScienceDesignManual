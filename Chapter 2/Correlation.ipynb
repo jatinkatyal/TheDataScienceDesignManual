{
 "cells": [
  {
   "cell_type": "markdown",
   "metadata": {},
   "source": [
    "Two variables are said to be correlated if one can be used to predict some values of other, a correlation coeficent is a measure of how much the one variable is a function of the other. Correlation coeficent can range from -1 to 1, with 1 meaning a strong correlation, -1 meaning a negative correlation and 0 meaning indpendence.\n",
    "\n",
    "<ul> \n",
    "    <li> Pearson Correlation Coeficent: sum of products of distance of X from its mean and and Y from its mean devided by square root  of sum of square distance of X from its mean and square root of sum of square distances of Y from its mean. Pearson's Correlation Coeficent is often used for linear correlations.</li>\n",
    "    <li> Spearman Rank Correlation Coeficent: It counts for pairs of a nd y which are out of order and thus can be used for non linear functions as well. First observations are ranked from smallest to largest observation in both variables, then coeficent is calculated as sum of squares of difference of ranks of the variables devided by n(n^2 -1) where n is the number of observations.</li>\n",
    "</ul>\n",
    "\n",
    "Strength of correlation can be determined by squaring the correlation coeficent. It sgnifies that r^2 is the fraction of varriance in variable Y that can be explained by variable X.\n",
    "\n",
    "Significance of correlation: A correlation is said to be significant if there is 0.05 chance(20%) that a correlation as strong as r is observed in any random n observations.\n",
    "\n",
    "Autocorrelation is comparing a sequence to itself, it is often used to predict future events using previous values of periodic events. Usually smaller lags in auto correlation are more accurate compared to longer lags,=."
   ]
  }
 ],
 "metadata": {
  "kernelspec": {
   "display_name": "Python 3",
   "language": "python",
   "name": "python3"
  },
  "language_info": {
   "codemirror_mode": {
    "name": "ipython",
    "version": 3
   },
   "file_extension": ".py",
   "mimetype": "text/x-python",
   "name": "python",
   "nbconvert_exporter": "python",
   "pygments_lexer": "ipython3",
   "version": "3.7.0"
  }
 },
 "nbformat": 4,
 "nbformat_minor": 2
}
