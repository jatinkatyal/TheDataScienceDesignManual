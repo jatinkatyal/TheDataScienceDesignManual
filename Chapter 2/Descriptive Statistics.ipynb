{
 "cells": [
  {
   "cell_type": "markdown",
   "metadata": {},
   "source": [
    "Descriptive statistics are methods used to summarise a given data set or sample. Descriptive statistics are of two type.\n"
   ]
  },
  {
   "cell_type": "markdown",
   "metadata": {},
   "source": [
    "<ol>\n",
    "    <li>\n",
    "        <ul>Centrality Measure\n",
    "            <li>Arithmatic Mean: Sum of observations devided by total number of observations. It is highly sensitive to outliers, a single outlier value can impact mean value alot if it's magnitude is large enough.</li>\n",
    "            <li>Geometric Mean: It is nth root of product of all observations, where n is number terms in data set or sample. It is highly sensitive to values near to 0, these can ruin the whole product.</li>\n",
    "            <li>Median: It is the exact middle value of the data set or sample. It is not sensitive to outliers and is usually quite near to arithmatic mean. Together Mean and Median can help understand the skewness of the data set.</li>\n",
    "            <li> Mode: It is the most frequently appearing observation in the given data set or sample.</li>\n",
    "        </ul>\n",
    "    </li> \n",
    "    <li><ul> Variability Measures\n",
    "        <li>Variance: It is sum of square distances from the mean devided by number of terms.</li>\n",
    "        <li>Standard Deviation: It is square root of variance.</li>\n",
    "        </ul>\n",
    "        Since distance from mean is sensitive to outliers, varriance and standard deviation are also sensitive to outliers.\n",
    "    </li>\n",
    "</ol>\n",
    "\n",
    "It is always a good idea to use Mean and standard deviation to summarise the data, with both values known one can imagine the  centeral value and how much data is spread from it."
   ]
  }
 ],
 "metadata": {
  "kernelspec": {
   "display_name": "Python 3",
   "language": "python",
   "name": "python3"
  },
  "language_info": {
   "codemirror_mode": {
    "name": "ipython",
    "version": 3
   },
   "file_extension": ".py",
   "mimetype": "text/x-python",
   "name": "python",
   "nbconvert_exporter": "python",
   "pygments_lexer": "ipython3",
   "version": "3.7.0"
  }
 },
 "nbformat": 4,
 "nbformat_minor": 2
}
