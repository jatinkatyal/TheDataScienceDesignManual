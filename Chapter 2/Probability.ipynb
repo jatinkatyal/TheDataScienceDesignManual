{
 "cells": [
  {
   "cell_type": "markdown",
   "metadata": {},
   "source": [
    "Probability is the branch of mathematics tha deals with likelihood of something occuring. Below is some common understanding of probability.\n",
    "<ul>\n",
    "    <li>Experiment : A procedure that yeildds one of the possible outcomes. Eg. Throwing a die </li>\n",
    "    <li>Sample Space : Set of all possible outcomes. Eg. {1,2,3,4,5,6}</li>\n",
    "    <li>Event : A particular subset of outcomes of an experiment. Eg. Even numbers on roll of a die i.e. {2,4,6}.</li>\n",
    "    <li>Probability of an outcome is always beetwen 0 and 1</li>\n",
    "    <li>Sum of probability of all outcomes is 1.</li>\n",
    "    <li>Probability of an event[P(E)] is sum of probabilities of all possible outcomes.</li>\n",
    "    <li>Probability of an event E, not occuring is 1 - P(E).</li>\n",
    "    <li>Random Variable is a a function on values of outcomes. Eg. Sum of numbers on rolling a pair of dice.</li> \n",
    "</ul>"
   ]
  },
  {
   "cell_type": "markdown",
   "metadata": {},
   "source": [
    "Probability & Statistics are often used together. Probabilty deals with predicting likelihood of an event for a set of all possible outcomes in an ideal world, while statistics uses observation of past to measure how ideal the real world is."
   ]
  },
  {
   "cell_type": "markdown",
   "metadata": {},
   "source": [
    "Two or more events in a same sample space can occur at same time and can have outcomes common for all events, such events are called compound events. With this comes following concepts.\n",
    "<ul>\n",
    "    <li>Union: Union of 2 events A & B means outcome can belong to either A or B.</li>\n",
    "    <li>Intersection: Intersection of 2 events A & B means outcome has to belong to both events A & B.</li>\n",
    "    <li>Set Difference: Setdifference of 2 events A & B means all events of A that donot belong to B.</li>\n",
    "    <li>Independent Events: Events which don't depend on each other i.e. occurence or not occurence of one doesn't impact occurence or non-occurence of secondd.</li>\n",
    "</ul>"
   ]
  },
  {
   "cell_type": "markdown",
   "metadata": {},
   "source": [
    "Conditional probabilities of an event is probability of an event occuring given that another event has already occured. It is usualy calculated when events are correlated. It is denoted by\n",
    "P(A|B) = P(A intersection B)/P(B)\n",
    "In case of independent events P(A intersection B) = P(A)*P(B), thus P(A|B) = P(A)"
   ]
  },
  {
   "cell_type": "markdown",
   "metadata": {},
   "source": [
    "Probability Distribution Function(PDF) is a representation of probabilities of a random variable. If V(s)=X is a random variable then P(V(s)=X) is the probability density function for it where P(V(s)=X) is sum of all of probabilities of s where V(s) = X.\n",
    "i.e. P(X) = <sub>&forall; s : V(s)=X </sub>&Sigma; P(s)\n",
    "\n",
    "PDF is probabilistic qeuvivalent of statiscal histograms, histograms show frequencies. If observed frequence is devided by total outcomes it is converted into a PDF.\n",
    "\n",
    "Cumilative Distribution Function(CDF) represnts same information as a PDF however cumilatively. So C(V(s)=X) = <sub>V(k) &le; X </sub> &Sigma; P(V(k))"
   ]
  }
 ],
 "metadata": {
  "kernelspec": {
   "display_name": "Python 3",
   "language": "python",
   "name": "python3"
  },
  "language_info": {
   "codemirror_mode": {
    "name": "ipython",
    "version": 3
   },
   "file_extension": ".py",
   "mimetype": "text/x-python",
   "name": "python",
   "nbconvert_exporter": "python",
   "pygments_lexer": "ipython3",
   "version": "3.7.0"
  }
 },
 "nbformat": 4,
 "nbformat_minor": 2
}
